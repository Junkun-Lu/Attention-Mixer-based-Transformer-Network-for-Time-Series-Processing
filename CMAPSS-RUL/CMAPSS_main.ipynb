{
 "cells": [
  {
   "cell_type": "code",
   "execution_count": 1,
   "metadata": {},
   "outputs": [],
   "source": [
    "import warnings\n",
    "warnings.filterwarnings(\"ignore\")"
   ]
  },
  {
   "cell_type": "code",
   "execution_count": 2,
   "metadata": {},
   "outputs": [],
   "source": [
    "from Experiment import Exp_TStransformer"
   ]
  },
  {
   "cell_type": "code",
   "execution_count": 3,
   "metadata": {},
   "outputs": [],
   "source": [
    "class dotdict(dict):\n",
    "    __getattr__ = dict.get\n",
    "    __setattr__ = dict.__setitem__\n",
    "    __delattr__ = dict.__delitem__\n",
    "    \n",
    "    \n",
    "args = dotdict()\n",
    "\n",
    "# load data set\n",
    "args.data_path              = \"CMAPSS\"\n",
    "args.Data_id                = \"FD001\"\n",
    "args.MAXLIFE                = 120\n",
    "args.difference             = False\n",
    "args.normalization          = \"minmax\"\n",
    "args.validation             = 0.1\n",
    "args.batch_size             = 32\n",
    "\n",
    "#  model parameter\n",
    "args.sequence_length        = 64\n",
    "args.d_model                = 24\n",
    "args.attention_layer_types  = [\"Local\", \"LocalLog\", \"ProbMask\"] \n",
    "args.embedd_kernel_size     = 3\n",
    "args.forward_kernel_size    = 3\n",
    "args.value_kernel_size      = 1\n",
    "args.causal_kernel_size     = 3\n",
    "args.d_ff                   = None\n",
    "args.n_heads                = 6\n",
    "args.e_layers               = 2\n",
    "args.dropout                = 0.1\n",
    "args.norm                   = 'batch'\n",
    "args.activation             = 'relu'\n",
    "args.output_attention       = True\n",
    "args.predictor_type         = 'hybrid'\n",
    "\n",
    "# train parameters\n",
    "args.use_gpu                = True   # if torch.cuda.is_available() else False\n",
    "args.gpu                    = 0\n",
    "\n",
    "args.learning_rate          = 0.0001\n",
    "args.train_epochs           = 200\n",
    "args.early_stop_patience    = 60\n",
    "args.learning_rate_patience = 10\n",
    "args.learning_rate_factor   = 0.3\n",
    "args.optimizer              = \"Adam\"\n",
    "\n",
    "\n",
    "args.criterion              = \"MSE\"\n",
    "args.enc_pred_loss          = \"WeightMSE\"\n",
    "args.weight_type            = \"gaussian\"\n",
    "args.smooth_loss            = \"smooth_mse\"\n",
    "args.sigma_faktor           = 20   # 越大 simga越小  权重分布就越窄\n",
    "args.anteil                 = 50   # 越大 比重反差就越大，后面的分布也就越大"
   ]
  },
  {
   "cell_type": "code",
   "execution_count": null,
   "metadata": {},
   "outputs": [],
   "source": [
    "exp = Exp_TStransformer(args)"
   ]
  },
  {
   "cell_type": "code",
   "execution_count": null,
   "metadata": {},
   "outputs": [],
   "source": [
    "save_path = \"FD001\"\n",
    "exp.train(save_path)"
   ]
  }
 ],
 "metadata": {
  "kernelspec": {
   "display_name": "Python 3.8.8 ('base')",
   "language": "python",
   "name": "python3"
  },
  "language_info": {
   "codemirror_mode": {
    "name": "ipython",
    "version": 3
   },
   "file_extension": ".py",
   "mimetype": "text/x-python",
   "name": "python",
   "nbconvert_exporter": "python",
   "pygments_lexer": "ipython3",
   "version": "3.8.8"
  },
  "orig_nbformat": 4,
  "vscode": {
   "interpreter": {
    "hash": "88279d2366fe020547cde40dd65aa0e3aa662a6ec1f3ca12d88834876c85e1a6"
   }
  }
 },
 "nbformat": 4,
 "nbformat_minor": 2
}
