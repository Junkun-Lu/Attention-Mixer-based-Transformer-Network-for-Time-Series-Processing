{
 "cells": [
  {
   "cell_type": "code",
   "execution_count": null,
   "metadata": {},
   "outputs": [],
   "source": [
    "import warnings\n",
    "warnings.filterwarnings(\"ignore\")"
   ]
  },
  {
   "cell_type": "code",
   "execution_count": null,
   "metadata": {},
   "outputs": [],
   "source": [
    "from Experiment import Exp_TStransformer"
   ]
  },
  {
   "cell_type": "code",
   "execution_count": null,
   "metadata": {},
   "outputs": [],
   "source": [
    "class dotdict(dict):\n",
    "    __getattr__ = dict.get\n",
    "    __setattr__ = dict.__setitem__\n",
    "    __delattr__ = dict.__delitem__\n",
    "    \n",
    "    \n",
    "args = dotdict()\n",
    "\n",
    "# load data set\n",
    "args.PATH                   = \"UCI HAR Dataset\"\n",
    "args.split_rate             = 0.2\n",
    "args.batch_size             = 64\n",
    "\n",
    "#  model parameter\n",
    "args.sequence_length        = 128\n",
    "args.class_num              = 6\n",
    "args.d_model                = 72\n",
    "args.attention_layer_types  = [\"Local\", \"LocalLog\", \"ProbMask\"] \n",
    "args.embedd_kernel_size     = 3\n",
    "args.forward_kernel_size    = 3\n",
    "args.value_kernel_size      = 1\n",
    "args.causal_kernel_size     = 3\n",
    "args.d_ff                   = None\n",
    "args.n_heads                = 12\n",
    "args.e_layers               = 2\n",
    "args.dropout                = 0.1\n",
    "args.norm                   = 'batch'\n",
    "args.activation             = 'relu'\n",
    "args.output_attention       = True\n",
    "args.predictor_type         = 'hybrid'\n",
    "\n",
    "# train parameters\n",
    "args.use_gpu                = True   # if torch.cuda.is_available() else False\n",
    "args.gpu                    = 0\n",
    "\n",
    "args.learning_rate          = 0.001\n",
    "args.train_epochs           = 200\n",
    "args.early_stop_patience    = 60\n",
    "args.learning_rate_patience = 15\n",
    "args.learning_rate_factor   = 0.3\n",
    "args.optimizer              = \"Adam\"\n",
    "args.criterion              = \"CrossEntropy\""
   ]
  },
  {
   "cell_type": "code",
   "execution_count": null,
   "metadata": {},
   "outputs": [],
   "source": [
    "exp = Exp_TStransformer(args)"
   ]
  },
  {
   "cell_type": "code",
   "execution_count": null,
   "metadata": {},
   "outputs": [],
   "source": [
    "save_path = \"UCI_hybrid\"\n",
    "exp.train(save_path)"
   ]
  },
  {
   "cell_type": "code",
   "execution_count": null,
   "metadata": {},
   "outputs": [],
   "source": []
  }
 ],
 "metadata": {
  "kernelspec": {
   "display_name": "Python 3",
   "language": "python",
   "name": "python3"
  },
  "language_info": {
   "codemirror_mode": {
    "name": "ipython",
    "version": 3
   },
   "file_extension": ".py",
   "mimetype": "text/x-python",
   "name": "python",
   "nbconvert_exporter": "python",
   "pygments_lexer": "ipython3",
   "version": "3.8.8"
  },
  "toc": {
   "base_numbering": 1,
   "nav_menu": {},
   "number_sections": true,
   "sideBar": true,
   "skip_h1_title": false,
   "title_cell": "Table of Contents",
   "title_sidebar": "Contents",
   "toc_cell": false,
   "toc_position": {},
   "toc_section_display": true,
   "toc_window_display": false
  },
  "vscode": {
   "interpreter": {
    "hash": "88279d2366fe020547cde40dd65aa0e3aa662a6ec1f3ca12d88834876c85e1a6"
   }
  }
 },
 "nbformat": 4,
 "nbformat_minor": 2
}
